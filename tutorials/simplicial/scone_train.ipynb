{
 "cells": [
  {
   "cell_type": "markdown",
   "metadata": {},
   "source": [
    "# Train a Simplicial Complex Net (SCoNe)\n",
    "\n",
    "In this notebook, we will create and train a SCoNe neural network in the simplicial complex domain, as proposed in the paper by [Roddenberry et. al : Principled Simplicial Neural Networks for Trajectory Prediction (2021)](http://proceedings.mlr.press/v139/roddenberry21a/roddenberry21a.pdf). \n",
    "\n",
    "We generate a synthetic dataset consisting of trajectories on a simplicial complex, and perform trajectory prediction on this dataset using SCoNe.\n",
    "\n",
    "The equations of one layer of this neural network are given by:\n",
    "\n",
    "🟥 $\\quad m^{(1 \\rightarrow 0 \\rightarrow 1)}\\_{y \\rightarrow \\{z\\} \\rightarrow x}  = (L_{\\downarrow,1})\\_{xy} \\cdot h_y^{t,(1)} \\cdot \\Theta^{t,(1 \\rightarrow 0 \\rightarrow 1)}$\n",
    "\n",
    "🟥 $\\quad m_{x \\rightarrow x}^{(1 \\rightarrow 1)}  = h_x^{t,(1)} \\cdot \\Theta^{t,(1 \\rightarrow 1)}$\n",
    "\n",
    "🟥 $\\quad m_{y \\rightarrow \\{z\\} \\rightarrow x}^{(1 \\rightarrow 2 \\rightarrow 1)}  = (L_{\\uparrow,1})\\_{xy} \\cdot h_y^{t,(1)} \\cdot \\Theta^{t,(1 \\rightarrow 2 \\rightarrow 1)}$\n",
    "\n",
    "🟧 $\\quad m_{x}^{(1 \\rightarrow 0 \\rightarrow 1)} = \\sum_{y \\in \\mathcal{L}\\_\\downarrow(x)} m_{y \\rightarrow \\{z\\} \\rightarrow x}^{(1 \\rightarrow 0 \\rightarrow 1)}$\n",
    "\n",
    "🟧 $\\quad m_{x}^{(1 \\rightarrow 2 \\rightarrow 1)}  = \\sum_{y \\in \\mathcal{L}\\_\\uparrow(x)} m_{y \\rightarrow \\{z\\} \\rightarrow x}^{(1 \\rightarrow 2 \\rightarrow 1)}$\n",
    "\n",
    "🟩 $\\quad m_x^{(1)}  = m_{x}^{(1 \\rightarrow 0 \\rightarrow 1)} + m_{x \\rightarrow x}^{(1 \\rightarrow 1)} + m_{x}^{(1 \\rightarrow 2 \\rightarrow 1)}$\n",
    "\n",
    "🟦 $\\quad h_x^{t,(1)} = \\sigma(m_x^{(1)})$\n",
    "\n",
    "Where the notations are defined in [Papillon et al : Architectures of Topological Deep Learning: A Survey of Topological Neural Networks (2023)](https://arxiv.org/abs/2304.10031)."
   ]
  },
  {
   "cell_type": "code",
   "execution_count": 1,
   "metadata": {},
   "outputs": [],
   "source": [
    "import torch\n",
    "import numpy as np\n",
    "\n",
    "from toponetx import SimplicialComplex\n",
    "import toponetx.datasets.graph as graph\n",
    "\n",
    "from topomodelx.nn.simplicial.hsn_layer import HSNLayer"
   ]
  },
  {
   "cell_type": "markdown",
   "metadata": {},
   "source": [
    "# Generating the dataset\n",
    "\n",
    "We more or less follow the method proposed in the original paper. The dataset will consist of trajectories (1-chains) on a simplicial complex of dimension 2.\n",
    "\n",
    "## Generating the simplicial complex ##\n",
    "\n",
    "We generate the simplicial complex as follows:\n",
    "\n",
    "1. Uniformly sample $n$ points $P$ in the unit square $[0,1]^2$.\n",
    "2. Construct the Delaunay triangulation $K$ of $P$.\n",
    "3. Remove all 2-simplices having its centroid contained in any of two pre-defined disks."
   ]
  },
  {
   "cell_type": "markdown",
   "metadata": {},
   "source": [
    "## Generating trajectories ##\n",
    "\n",
    "When constructing the simplicial complex, we ordered the nodes (0-simplices) increasingly by the sum of their coordinates in the plane. We now randomly pick triplets $(s,m,e)$ where $s$ is sampled from the lower left corner, $m$ is sampled from around the middle anti-diagonal, and $e$ is sampled from the upper right corner. We then compute the shortest paths $p_1$ and $p_2$, from $s$ to $m$ and from $m$ to $e$, respectively. Lastly, we concatenate these two paths to form a path $p$ from $s$ to $e$. Our dataset consists of the collections of such paths."
   ]
  },
  {
   "cell_type": "markdown",
   "metadata": {},
   "source": [
    "# Create the Neural Network"
   ]
  },
  {
   "cell_type": "markdown",
   "metadata": {},
   "source": [
    "# Train the Neural Network"
   ]
  },
  {
   "cell_type": "markdown",
   "metadata": {},
   "source": [
    "# Evaluating the Neural Network"
   ]
  }
 ],
 "metadata": {
  "kernelspec": {
   "display_name": "Python 3 (ipykernel)",
   "language": "python",
   "name": "python3"
  },
  "language_info": {
   "codemirror_mode": {
    "name": "ipython",
    "version": 3
   },
   "file_extension": ".py",
   "mimetype": "text/x-python",
   "name": "python",
   "nbconvert_exporter": "python",
   "pygments_lexer": "ipython3",
   "version": "3.10.10"
  }
 },
 "nbformat": 4,
 "nbformat_minor": 4
}
