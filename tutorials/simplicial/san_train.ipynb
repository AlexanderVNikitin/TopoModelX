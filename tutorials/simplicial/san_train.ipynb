{
 "cells": [
  {
   "attachments": {},
   "cell_type": "markdown",
   "metadata": {},
   "source": [
    "# Train a Simplicial Attention Network (SAN)\n",
    "\n",
    "TODO"
   ]
  },
  {
   "cell_type": "code",
   "execution_count": 38,
   "metadata": {},
   "outputs": [
    {
     "name": "stdout",
     "output_type": "stream",
     "text": [
      "The autoreload extension is already loaded. To reload it, use:\n",
      "  %reload_ext autoreload\n"
     ]
    }
   ],
   "source": [
    "import numpy as np\n",
    "import torch\n",
    "from torch.nn.parameter import Parameter\n",
    "from toponetx import SimplicialComplex\n",
    "import toponetx.datasets.graph as graph\n",
    "from torch_geometric.utils.convert import to_networkx\n",
    "\n",
    "from topomodelx.nn.simplicial.san_layer import SANLayer\n",
    "\n",
    "%load_ext autoreload\n",
    "%autoreload 2"
   ]
  },
  {
   "cell_type": "code",
   "execution_count": 39,
   "metadata": {},
   "outputs": [
    {
     "name": "stdout",
     "output_type": "stream",
     "text": [
      "cuda\n"
     ]
    }
   ],
   "source": [
    "device = torch.device(\"cuda\" if torch.cuda.is_available() else \"cpu\")\n",
    "print(device)"
   ]
  },
  {
   "attachments": {},
   "cell_type": "markdown",
   "metadata": {},
   "source": [
    "# Pre-processing\n",
    "\n",
    "## Import dataset ##\n",
    "\n",
    "The first step is to import the Karate Club (https://www.jstor.org/stable/3629752) dataset. This is a singular graph with 34 nodes that belong to two different social groups. We will use these groups for the task of node-level binary classification.\n",
    "\n",
    "We must first lift our graph dataset into the simplicial complex domain."
   ]
  },
  {
   "cell_type": "code",
   "execution_count": 40,
   "metadata": {},
   "outputs": [
    {
     "name": "stdout",
     "output_type": "stream",
     "text": [
      "Simplicial Complex with shape (34, 78, 45, 11, 2) and dimension 4\n"
     ]
    }
   ],
   "source": [
    "dataset = graph.karate_club(complex_type=\"simplicial\")\n",
    "print(dataset)"
   ]
  },
  {
   "cell_type": "code",
   "execution_count": 41,
   "metadata": {},
   "outputs": [
    {
     "data": {
      "text/plain": [
       "(34, 78, 45, 11, 2)"
      ]
     },
     "execution_count": 41,
     "metadata": {},
     "output_type": "execute_result"
    }
   ],
   "source": [
    "dataset.shape"
   ]
  },
  {
   "attachments": {},
   "cell_type": "markdown",
   "metadata": {},
   "source": [
    "## Define neighborhood structures. ##\n",
    "\n",
    "Now we retrieve the neighborhood structures (i.e. their representative matrices) that we will use to send messages on the domain. In this case, we need the down and upper laplacians of the nodes, $L_d^1=B_1^TB_1$ and $L_u^1=B_2B_2^T$ respectively, both with dimensions $n_\\text{edges} \\times n_\\text{edges}$. We also convert the neighborhood structures to torch tensors."
   ]
  },
  {
   "attachments": {},
   "cell_type": "markdown",
   "metadata": {},
   "source": [
    "### Note:\n",
    "We can generalize to arbitrary _k_-simplex order; we just need to compute the _k_-th order down and upper laplacians. There are though two particular scenarios:\n",
    "- When we want to work with 0-simplices (nodes), as there is no down laplacian; in this case, we just initialize the down laplacian as a 0-matrix, and SAN automatically becomes a GAT-based architecture.\n",
    "- When dealing with the higher simplex dimension of the dataset (_k_=4 in Karate Club); just the opposite case of nodes, where now the upper laplacian cannot be computed. In this case we can also initialize it as a 0 matrix and SAN will only consider the lower boundary info for  those _k_-simplices."
   ]
  },
  {
   "cell_type": "code",
   "execution_count": 58,
   "metadata": {},
   "outputs": [],
   "source": [
    "simplex_order_k = 1\n",
    "# Down laplacian\n",
    "try:\n",
    "    Ldown = torch.from_numpy(\n",
    "        dataset.down_laplacian_matrix(rank=simplex_order_k).todense()\n",
    "    ).to_sparse()\n",
    "except ValueError:\n",
    "    Ldown = torch.zeros(\n",
    "        (dataset.shape[simplex_order_k], dataset.shape[simplex_order_k])\n",
    "    ).to_sparse()\n",
    "# Up laplacian\n",
    "try:\n",
    "    Lup = torch.from_numpy(\n",
    "        dataset.up_laplacian_matrix(rank=simplex_order_k).todense()\n",
    "    ).to_sparse()\n",
    "except ValueError:\n",
    "    Lup = torch.zeros(\n",
    "        (dataset.shape[simplex_order_k], dataset.shape[simplex_order_k])\n",
    "    ).to_sparse()"
   ]
  },
  {
   "attachments": {},
   "cell_type": "markdown",
   "metadata": {},
   "source": [
    "## Import signal ##\n",
    "\n",
    "The original task is node classification, but SAN work only with simplices of order higher or equal to 1 (edges, tetrahedrons, etc.). We will retrieve the input signal on both nodes and links, aggregate the information of nodes into link features and apply the SAN model on those resulting edge features. We will finally obtain the estimated node labels from the edge-level model output."
   ]
  },
  {
   "cell_type": "code",
   "execution_count": 59,
   "metadata": {},
   "outputs": [
    {
     "name": "stdout",
     "output_type": "stream",
     "text": [
      "There are 34 nodes with features of dimension 2.\n",
      "There are 78 edges with features of dimension 2.\n",
      "There are 45 faces with features of dimension 2.\n"
     ]
    }
   ],
   "source": [
    "x_0 = []\n",
    "for _, v in dataset.get_simplex_attributes(\"node_feat\").items():\n",
    "    x_0.append(v)\n",
    "x_0 = torch.tensor(np.stack(x_0))\n",
    "channels_nodes = x_0.shape[-1]\n",
    "print(f\"There are {x_0.shape[0]} nodes with features of dimension {x_0.shape[1]}.\")\n",
    "\n",
    "x_1 = []\n",
    "for k, v in dataset.get_simplex_attributes(\"edge_feat\").items():\n",
    "    x_1.append(v)\n",
    "x_1 = torch.tensor(np.stack(x_1))\n",
    "print(f\"There are {x_1.shape[0]} edges with features of dimension {x_1.shape[1]}.\")\n",
    "\n",
    "x_2 = []\n",
    "for k, v in dataset.get_simplex_attributes(\"face_feat\").items():\n",
    "    x_2.append(v)\n",
    "x_2 = np.stack(x_2)\n",
    "print(f\"There are {x_2.shape[0]} faces with features of dimension {x_2.shape[1]}.\")"
   ]
  },
  {
   "cell_type": "code",
   "execution_count": 60,
   "metadata": {},
   "outputs": [],
   "source": [
    "in_channels = x_1.shape[-1]\n",
    "hidden_channels = 16\n",
    "out_channels = 2"
   ]
  },
  {
   "attachments": {},
   "cell_type": "markdown",
   "metadata": {},
   "source": [
    "## Define binary labels\n",
    "We retrieve the labels associated to the nodes of each input simplex. In the KarateClub dataset, two social groups emerge. So we assign binary labels to the nodes indicating of which group they are a part.\n",
    "\n",
    "We convert the binary labels into one-hot encoder form, and keep the first four nodes' true labels for the purpose of testing."
   ]
  },
  {
   "cell_type": "code",
   "execution_count": 61,
   "metadata": {},
   "outputs": [],
   "source": [
    "y = np.array(\n",
    "    [\n",
    "        1,\n",
    "        1,\n",
    "        1,\n",
    "        1,\n",
    "        1,\n",
    "        1,\n",
    "        1,\n",
    "        1,\n",
    "        1,\n",
    "        0,\n",
    "        1,\n",
    "        1,\n",
    "        1,\n",
    "        1,\n",
    "        0,\n",
    "        0,\n",
    "        1,\n",
    "        1,\n",
    "        0,\n",
    "        1,\n",
    "        0,\n",
    "        1,\n",
    "        0,\n",
    "        0,\n",
    "        0,\n",
    "        0,\n",
    "        0,\n",
    "        0,\n",
    "        0,\n",
    "        0,\n",
    "        0,\n",
    "        0,\n",
    "        0,\n",
    "        0,\n",
    "    ]\n",
    ")\n",
    "y_true = np.zeros((34, 2))\n",
    "y_true[:, 0] = y\n",
    "y_true[:, 1] = 1 - y\n",
    "y_test = y_true[:4]\n",
    "y_train = y_true[-30:]\n",
    "\n",
    "y_train = torch.from_numpy(y_train)\n",
    "y_test = torch.from_numpy(y_test)"
   ]
  },
  {
   "attachments": {},
   "cell_type": "markdown",
   "metadata": {},
   "source": [
    "# Create the Neural Network\n",
    "\n",
    "Using the HSNLayer class, we create a neural network with stacked layers. A linear layer at the end produces an output with shape $n_\\text{nodes} \\times 2$, so we can compare with our binary labels."
   ]
  },
  {
   "cell_type": "code",
   "execution_count": 62,
   "metadata": {},
   "outputs": [],
   "source": [
    "class SAN(torch.nn.Module):\n",
    "    r\"\"\"Simplicial Attention Network (SAN) implementation for binary edge classification.\n",
    "\n",
    "    Parameters\n",
    "    ----------\n",
    "    in_channels : int\n",
    "        Dimension of input features.\n",
    "    hidden_channels : int\n",
    "        Dimension of hidden features.\n",
    "    out_channels : int\n",
    "        Dimension of output features.\n",
    "    simplex_order_k : int\n",
    "        Order r of the considered simplices. Default to 1 (edges).\n",
    "    num_filters_J : int, optional\n",
    "        Approximation order for simplicial filters. Defaults to 2.\n",
    "    J_har : int, optional\n",
    "        Approximation order for harmonic convolution. Defaults to 5.\n",
    "    epsilon_har : float, optional\n",
    "        Epsilon value for harmonic convolution. Defaults to 1e-1.\n",
    "    n_layers : int, optional\n",
    "        Number of message passing layers. Defaults to 2.\n",
    "    \"\"\"\n",
    "\n",
    "    def __init__(\n",
    "        self,\n",
    "        in_channels,\n",
    "        hidden_channels,\n",
    "        out_channels,\n",
    "        num_filters_J=2,\n",
    "        J_har=5,\n",
    "        epsilon_har=1e-1,\n",
    "        n_layers=2,\n",
    "    ):\n",
    "        super().__init__()\n",
    "        self.in_channels = in_channels\n",
    "        self.hidden_channels = hidden_channels\n",
    "        self.out_channels = out_channels\n",
    "        self.num_filters_J = num_filters_J\n",
    "        self.J_har = J_har\n",
    "        self.epsilon_har = epsilon_har\n",
    "        if n_layers == 1:\n",
    "            self.layers = [\n",
    "                SANLayer(\n",
    "                    in_channels=self.in_channels,\n",
    "                    out_channels=self.out_channels,\n",
    "                    num_filters_J=self.num_filters_J,\n",
    "                )\n",
    "            ]\n",
    "        else:\n",
    "            self.layers = [\n",
    "                SANLayer(\n",
    "                    in_channels=self.in_channels,\n",
    "                    out_channels=self.hidden_channels,\n",
    "                    num_filters_J=self.num_filters_J,\n",
    "                )\n",
    "            ]\n",
    "            for _ in range(n_layers - 2):\n",
    "                self.layers.append(\n",
    "                    SANLayer(\n",
    "                        in_channels=self.hidden_channels,\n",
    "                        out_channels=self.hidden_channels,\n",
    "                        num_filters_J=self.num_filters_J,\n",
    "                    )\n",
    "                )\n",
    "            self.layers.append(\n",
    "                SANLayer(\n",
    "                    in_channels=self.hidden_channels,\n",
    "                    out_channels=self.out_channels,\n",
    "                    num_filters_J=self.num_filters_J,\n",
    "                )\n",
    "            )\n",
    "        self.linear = torch.nn.Linear(out_channels, 2)\n",
    "\n",
    "    def compute_projection_matrix(self, L):\n",
    "        r\"\"\"Computation of the projection matrix which is then used\n",
    "        to calculate the harmonic component in SAN layers.\n",
    "\n",
    "        Parameters\n",
    "        ---------\n",
    "\n",
    "        L : tensor\n",
    "            shape = [n_edges, n_edges]\n",
    "            Hodge laplacian of rank 1.\n",
    "\n",
    "\n",
    "        Returns\n",
    "        --------\n",
    "        _ : tensor\n",
    "            shape = [n_edges, n_edges]\n",
    "            Projection matrix.\n",
    "\n",
    "        \"\"\"\n",
    "        P = torch.eye(L.shape[0]) - self.epsilon_har * L\n",
    "        P = torch.linalg.matrix_power(P, self.J_har)\n",
    "        return P\n",
    "\n",
    "    def forward(self, x, Lup, Ldown):\n",
    "        r\"\"\"Forward computation.\n",
    "\n",
    "        Parameters\n",
    "        ---------\n",
    "        x : tensor\n",
    "            shape = [n_nodes, channels_in]\n",
    "            Node features.\n",
    "\n",
    "        Lup : tensor\n",
    "            shape = [n_edges, n_edges]\n",
    "            Upper laplacian of rank 1.\n",
    "\n",
    "        Ld : tensor\n",
    "            shape = [n_edges, n_edges]\n",
    "            Down laplacian of rank 1.\n",
    "\n",
    "\n",
    "        Returns\n",
    "        --------\n",
    "        _ : tensor\n",
    "            shape = [n_nodes, 2]\n",
    "            One-hot labels assigned to edges.\n",
    "\n",
    "        \"\"\"\n",
    "        # Compute the projection matrix for the harmonic component\n",
    "        L = Lup + Ldown\n",
    "        P = self.compute_projection_matrix(L)\n",
    "\n",
    "        # Forward computation\n",
    "        for layer in self.layers:\n",
    "            x = layer(x, Lup, Ldown, P)\n",
    "        return torch.sigmoid(self.linear(x))"
   ]
  },
  {
   "cell_type": "code",
   "execution_count": 63,
   "metadata": {},
   "outputs": [
    {
     "data": {
      "text/plain": [
       "(torch.Size([78, 78]), torch.Size([78, 78]), torch.Size([78, 2]))"
      ]
     },
     "execution_count": 63,
     "metadata": {},
     "output_type": "execute_result"
    }
   ],
   "source": [
    "Lup.shape, Ldown.shape, x_1.shape"
   ]
  },
  {
   "attachments": {},
   "cell_type": "markdown",
   "metadata": {},
   "source": [
    "# Train the Neural Network"
   ]
  },
  {
   "attachments": {},
   "cell_type": "markdown",
   "metadata": {},
   "source": [
    "The following cell performs the training, looping over the network for a low number of epochs."
   ]
  },
  {
   "cell_type": "code",
   "execution_count": 64,
   "metadata": {},
   "outputs": [
    {
     "name": "stdout",
     "output_type": "stream",
     "text": [
      "Epoch: 1 loss: 0.7296 Train_acc: 0.0000\n",
      "Epoch: 2 loss: 0.7156 Train_acc: 0.0000\n",
      "Test_acc: 0.0000\n",
      "Epoch: 3 loss: 0.7045 Train_acc: 0.0000\n",
      "Epoch: 4 loss: 0.6968 Train_acc: 0.0000\n",
      "Test_acc: 0.0000\n",
      "Epoch: 5 loss: 0.6923 Train_acc: 0.0000\n",
      "Epoch: 6 loss: 0.6898 Train_acc: 0.0000\n",
      "Test_acc: 0.0000\n",
      "Epoch: 7 loss: 0.6884 Train_acc: 0.0000\n",
      "Epoch: 8 loss: 0.6876 Train_acc: 0.0000\n",
      "Test_acc: 0.0000\n",
      "Epoch: 9 loss: 0.6869 Train_acc: 0.0000\n",
      "Epoch: 10 loss: 0.6862 Train_acc: 0.0000\n",
      "Test_acc: 0.0000\n"
     ]
    }
   ],
   "source": [
    "model = SAN(\n",
    "    in_channels=in_channels,\n",
    "    hidden_channels=hidden_channels,\n",
    "    out_channels=out_channels,\n",
    "    n_layers=1,\n",
    ")\n",
    "\n",
    "optimizer = torch.optim.Adam(model.parameters(), lr=0.4)\n",
    "test_interval = 2\n",
    "num_epochs = 10\n",
    "for epoch_i in range(1, num_epochs + 1):\n",
    "    epoch_loss = []\n",
    "    model.train()\n",
    "    optimizer.zero_grad()\n",
    "\n",
    "    y_hat = model(x_1, Lup=Lup, Ldown=Ldown)\n",
    "    loss = torch.nn.functional.binary_cross_entropy_with_logits(\n",
    "        y_hat[-len(y_train) :].float(), y_train.float()\n",
    "    )\n",
    "    epoch_loss.append(loss.item())\n",
    "    loss.backward()\n",
    "    optimizer.step()\n",
    "\n",
    "    y_pred = torch.where(y_hat > 0.5, torch.tensor(1), torch.tensor(0))\n",
    "    accuracy = (y_pred == y_hat).all(dim=1).float().mean().item()\n",
    "    print(\n",
    "        f\"Epoch: {epoch_i} loss: {np.mean(epoch_loss):.4f} Train_acc: {accuracy:.4f}\",\n",
    "        flush=True,\n",
    "    )\n",
    "    if epoch_i % test_interval == 0:\n",
    "        with torch.no_grad():\n",
    "            y_hat_test = model(x_1, Lup=Lup, Ldown=Ldown)\n",
    "            y_pred_test = torch.sigmoid(y_hat_test).ge(0.5).float()\n",
    "            test_accuracy = (\n",
    "                torch.eq(y_pred_test[: len(y_test)], y_test)\n",
    "                .all(dim=1)\n",
    "                .float()\n",
    "                .mean()\n",
    "                .item()\n",
    "            )\n",
    "            print(f\"Test_acc: {test_accuracy:.4f}\", flush=True)"
   ]
  }
 ],
 "metadata": {
  "kernelspec": {
   "display_name": "Python 3.11.3 ('topox')",
   "language": "python",
   "name": "python3"
  },
  "language_info": {
   "codemirror_mode": {
    "name": "ipython",
    "version": 3
   },
   "file_extension": ".py",
   "mimetype": "text/x-python",
   "name": "python",
   "nbconvert_exporter": "python",
   "pygments_lexer": "ipython3",
   "version": "3.11.3"
  },
  "vscode": {
   "interpreter": {
    "hash": "7b696409e3d9b84bb97012e0a2d03075417bfa260eb8ad887be094cb925d5d5d"
   }
  }
 },
 "nbformat": 4,
 "nbformat_minor": 4
}
