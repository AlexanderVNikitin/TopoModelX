{
 "cells": [
  {
   "attachments": {},
   "cell_type": "markdown",
   "metadata": {},
   "source": [
    "# Train a Hypergraph Neural Network\n",
    "\n",
    "In this notebook, we will create and train a two-step message passing network in the hypergraph domain. We will use a benchmark dataset, shrec16, a collection of 3D meshes, to train the model to perform classification at the level of the hypergraph. "
   ]
  },
  {
   "cell_type": "code",
   "execution_count": 1,
   "metadata": {
    "ExecuteTime": {
     "end_time": "2023-06-01T16:14:51.222779223Z",
     "start_time": "2023-06-01T16:14:49.575421023Z"
    }
   },
   "outputs": [],
   "source": [
    "import numpy as np\n",
    "from sklearn.model_selection import train_test_split\n",
    "\n",
    "from toponetx import SimplicialComplex\n",
    "import toponetx.datasets as datasets\n",
    "from topomodelx.nn.hypergraph.allsettransformer_layer import AllSetTransformerLayer\n",
    "\n",
    "import torch\n",
    "from torch_geometric.utils import to_edge_index\n",
    "# make ipynb to read .py files continiously\n",
    "%load_ext autoreload\n",
    "%autoreload 2\n",
    "\n"
   ]
  },
  {
   "attachments": {},
   "cell_type": "markdown",
   "metadata": {},
   "source": [
    "If GPU's are available, we will make use of them. Otherwise, this will run on CPU."
   ]
  },
  {
   "cell_type": "code",
   "execution_count": 2,
   "metadata": {
    "ExecuteTime": {
     "end_time": "2023-06-01T16:14:51.959770754Z",
     "start_time": "2023-06-01T16:14:51.956096841Z"
    }
   },
   "outputs": [
    {
     "name": "stdout",
     "output_type": "stream",
     "text": [
      "cpu\n"
     ]
    }
   ],
   "source": [
    "device = torch.device(\"cuda\" if torch.cuda.is_available() else \"cpu\")\n",
    "print(device)"
   ]
  },
  {
   "attachments": {},
   "cell_type": "markdown",
   "metadata": {},
   "source": [
    "# Pre-processing\n",
    "\n",
    "## Import data ##\n",
    "\n",
    "The first step is to import the dataset, shrec 16, a benchmark dataset for 3D mesh classification. We then lift each graph into our domain of choice, a hypergraph.\n",
    "\n",
    "We will also retrieve:\n",
    "- input signal on the edges for each of these hypergraphs, as that will be what we feed the model in input\n",
    "- the label associated to the hypergraph"
   ]
  },
  {
   "cell_type": "code",
   "execution_count": 3,
   "metadata": {
    "ExecuteTime": {
     "end_time": "2023-06-01T16:14:53.022151550Z",
     "start_time": "2023-06-01T16:14:52.949636599Z"
    }
   },
   "outputs": [
    {
     "name": "stdout",
     "output_type": "stream",
     "text": [
      "Loading dataset...\n",
      "\n",
      "done!\n"
     ]
    }
   ],
   "source": [
    "shrec, _ = datasets.mesh.shrec_16(size=\"small\")\n",
    "\n",
    "shrec = {key: np.array(value) for key, value in shrec.items()}\n",
    "x_0s = shrec[\"node_feat\"]\n",
    "x_1s = shrec[\"edge_feat\"]\n",
    "x_2s = shrec[\"face_feat\"]\n",
    "\n",
    "ys = shrec[\"label\"]\n",
    "simplexes = shrec[\"complexes\"]"
   ]
  },
  {
   "cell_type": "code",
   "execution_count": 4,
   "metadata": {},
   "outputs": [
    {
     "name": "stdout",
     "output_type": "stream",
     "text": [
      "The 6th simplicial complex has 252 nodes with features of dimension 6.\n",
      "The 6th simplicial complex has 750 edges with features of dimension 10.\n",
      "The 6th simplicial complex has 500 faces with features of dimension 7.\n"
     ]
    }
   ],
   "source": [
    "i_complex = 6\n",
    "print(\n",
    "    f\"The {i_complex}th simplicial complex has {x_0s[i_complex].shape[0]} nodes with features of dimension {x_0s[i_complex].shape[1]}.\"\n",
    ")\n",
    "print(\n",
    "    f\"The {i_complex}th simplicial complex has {x_1s[i_complex].shape[0]} edges with features of dimension {x_1s[i_complex].shape[1]}.\"\n",
    ")\n",
    "print(\n",
    "    f\"The {i_complex}th simplicial complex has {x_2s[i_complex].shape[0]} faces with features of dimension {x_2s[i_complex].shape[1]}.\"\n",
    ")"
   ]
  },
  {
   "attachments": {},
   "cell_type": "markdown",
   "metadata": {},
   "source": [
    "## Define neighborhood structures and lift into hypergraph domain. ##\n",
    "\n",
    "Now we retrieve the neighborhood structures (i.e. their representative matrices) that we will use to send messges on each simplicial complex. In the case of this architecture, we need the boundary matrix (or incidence matrix) $B_1$ with shape $n_\\text{nodes} \\times n_\\text{edges}$.\n",
    "\n",
    "Once we have recorded the incidence matrix (note that all incidence amtrices in the hypergraph domain must be unsigned), we lift each simplicial complex into a hypergraph. The pairwise edges will become pairwise hyperedges, and faces in the simplciial complex will become 3-wise hyperedges."
   ]
  },
  {
   "cell_type": "code",
   "execution_count": 5,
   "metadata": {
    "ExecuteTime": {
     "end_time": "2023-06-01T16:14:53.022151550Z",
     "start_time": "2023-06-01T16:14:52.949636599Z"
    }
   },
   "outputs": [],
   "source": [
    "hg_list = []\n",
    "incidence_1_list = []\n",
    "for simplex in simplexes:\n",
    "    incidence_1 = simplex.incidence_matrix(rank=1, signed=False)\n",
    "    # incidence_1 = torch.from_numpy(incidence_1.todense()).to_sparse()\n",
    "    # incidence_1_list.append(incidence_1)\n",
    "    hg = simplex.to_hypergraph()\n",
    "    hg_list.append(hg)\n",
    "\n",
    "\n",
    "# Extract hypergraphs incident matrices from collected hypergraphs\n",
    "for hg in hg_list:\n",
    "    incidence_1 = hg.incidence_matrix()\n",
    "    incidence_1 = torch.from_numpy(incidence_1.todense()).to_sparse()\n",
    "    incidence_1_list.append(incidence_1)"
   ]
  },
  {
   "cell_type": "code",
   "execution_count": 6,
   "metadata": {},
   "outputs": [
    {
     "name": "stdout",
     "output_type": "stream",
     "text": [
      "The 6th hypergraph has an incidence matrix of shape torch.Size([252, 1250]).\n"
     ]
    }
   ],
   "source": [
    "i_complex = 6\n",
    "print(\n",
    "    f\"The {i_complex}th hypergraph has an incidence matrix of shape {incidence_1_list[i_complex].shape}.\"\n",
    ")"
   ]
  },
  {
   "attachments": {},
   "cell_type": "markdown",
   "metadata": {},
   "source": [
    "# Create the Neural Network\n",
    "\n",
    "Using the TemplateLayer class, we create a neural network with stacked layers."
   ]
  },
  {
   "cell_type": "code",
   "execution_count": 7,
   "metadata": {
    "ExecuteTime": {
     "end_time": "2023-06-01T16:14:55.343005145Z",
     "start_time": "2023-06-01T16:14:55.339481459Z"
    }
   },
   "outputs": [],
   "source": [
    "channels_edge = x_1s[0].shape[1]\n",
    "channels_node = x_0s[0].shape[1]\n",
    "hid_dim, out_dim = 32, 1\n",
    "num_heads = 4\n",
    "\n",
    "x_0 = torch.tensor(x_0s[0], dtype=torch.float32)\n",
    "incidence_1 = incidence_1_list[0]\n",
    "Q_n = 1"
   ]
  },
  {
   "cell_type": "code",
   "execution_count": 10,
   "metadata": {
    "ExecuteTime": {
     "end_time": "2023-06-01T16:14:56.033274119Z",
     "start_time": "2023-06-01T16:14:56.029056913Z"
    }
   },
   "outputs": [],
   "source": [
    "class AllSetTransformerModel(torch.nn.Module):\n",
    "    \"\"\"AllSet Neural Network Module.\n",
    "\n",
    "    A module that combines multiple AllSet layers to form a neural network.\n",
    "\n",
    "    Parameters\n",
    "    ----------\n",
    "    in_dim : int\n",
    "        Dimension of the input features.\n",
    "    hid_dim : int\n",
    "        Dimension of the hidden features.\n",
    "    out_dim : int\n",
    "        Dimension of the output features.\n",
    "    dropout : float\n",
    "        Dropout probability.\n",
    "    n_layers : int, optional\n",
    "        Number of AllSet layers in the network. Defaults to 2.\n",
    "    input_dropout : float, optional\n",
    "        Dropout probability for the layer input. Defaults to 0.2.\n",
    "    mlp_num_layers : int, optional\n",
    "        Number of layers in the MLP. Defaults to 2.\n",
    "    mlp_input_norm : bool, optional\n",
    "        Whether to apply input normalization in the MLP. Defaults to False.\n",
    "    \"\"\"\n",
    "\n",
    "    def __init__(\n",
    "        self,\n",
    "        in_channels,\n",
    "        hidden_channels,\n",
    "        out_channels,\n",
    "        n_layers=2,\n",
    "        dropout=0.2,\n",
    "        mlp_num_layers=1,\n",
    "        mlp_dropout=0.0,\n",
    "    ):\n",
    "        super().__init__()\n",
    "        layers = [\n",
    "            AllSetTransformerLayer(\n",
    "                in_channels=in_channels,\n",
    "                hidden_channels=hidden_channels,\n",
    "                out_channels=out_channels,\n",
    "                dropout=dropout,\n",
    "                mlp_num_layers=mlp_num_layers,\n",
    "                mlp_dropout=mlp_dropout,\n",
    "            )\n",
    "        ]\n",
    "\n",
    "        for _ in range(n_layers - 1):\n",
    "            layers.append(\n",
    "                AllSetTransformerLayer(\n",
    "                    in_channels=hidden_channels,\n",
    "                    hidden_channels=hidden_channels,\n",
    "                    out_dim=hidden_channels,\n",
    "                    dropout=dropout,\n",
    "                    mlp_num_layers=mlp_num_layers,\n",
    "                    mlp_dropout=mlp_dropout,\n",
    "                )\n",
    "            )\n",
    "        self.layers = torch.nn.ModuleList(layers)\n",
    "        self.linear = torch.nn.Linear(hid_dim, out_dim)\n",
    "\n",
    "    def forward(self, x_0, incidence_1):\n",
    "        \"\"\"\n",
    "        Forward computation.\n",
    "\n",
    "        Parameters\n",
    "        ----------\n",
    "        x : torch.Tensor\n",
    "            Input features.\n",
    "        edge_index : torch.Tensor\n",
    "            Edge list (of size (2, |E|)).\n",
    "\n",
    "        Returns\n",
    "        -------\n",
    "        torch.Tensor\n",
    "            Output prediction.\n",
    "        \"\"\"\n",
    "        # cidx = edge_index[1].min()\n",
    "        # edge_index[1] -= cidx\n",
    "        # reversed_edge_index = torch.stack(\n",
    "        #     [edge_index[1], edge_index[0]], dim=0)\n",
    "\n",
    "        for layer in self.layers:\n",
    "            x_0 = layer(x_0, incidence_1)\n",
    "        pooled_x = torch.max(x_0, dim=0)[0]\n",
    "        return torch.sigmoid(self.linear(pooled_x))[0]"
   ]
  },
  {
   "attachments": {},
   "cell_type": "markdown",
   "metadata": {},
   "source": [
    "# Train the Neural Network\n",
    "\n",
    "We specify the model, the loss, and an optimizer."
   ]
  },
  {
   "cell_type": "code",
   "execution_count": 12,
   "metadata": {},
   "outputs": [
    {
     "ename": "TypeError",
     "evalue": "AllSetTransformerLayer.__init__() got an unexpected keyword argument 'att_dropout'",
     "output_type": "error",
     "traceback": [
      "\u001b[0;31m---------------------------------------------------------------------------\u001b[0m",
      "\u001b[0;31mTypeError\u001b[0m                                 Traceback (most recent call last)",
      "Cell \u001b[0;32mIn[12], line 4\u001b[0m\n\u001b[1;32m      1\u001b[0m hid_dim, out_dim \u001b[39m=\u001b[39m \u001b[39m64\u001b[39m, \u001b[39m1\u001b[39m\n\u001b[1;32m      3\u001b[0m \u001b[39m# Define the model\u001b[39;00m\n\u001b[0;32m----> 4\u001b[0m model \u001b[39m=\u001b[39m AllSetTransformerModel(\n\u001b[1;32m      5\u001b[0m     in_channels\u001b[39m=\u001b[39;49mchannels_node,\n\u001b[1;32m      6\u001b[0m     hidden_channels\u001b[39m=\u001b[39;49mhid_dim,\n\u001b[1;32m      7\u001b[0m     out_channels\u001b[39m=\u001b[39;49mout_dim,\n\u001b[1;32m      8\u001b[0m     n_layers\u001b[39m=\u001b[39;49m\u001b[39m1\u001b[39;49m,\n\u001b[1;32m      9\u001b[0m     mlp_num_layers\u001b[39m=\u001b[39;49m\u001b[39m1\u001b[39;49m,\n\u001b[1;32m     10\u001b[0m )\n\u001b[1;32m     11\u001b[0m model \u001b[39m=\u001b[39m model\u001b[39m.\u001b[39mto(device)\n\u001b[1;32m     13\u001b[0m \u001b[39m# Optimizer and loss\u001b[39;00m\n",
      "Cell \u001b[0;32mIn[10], line 38\u001b[0m, in \u001b[0;36mAllSetTransformerModel.__init__\u001b[0;34m(self, in_channels, hidden_channels, out_channels, n_layers, dropout, att_dropout, mlp_num_layers)\u001b[0m\n\u001b[1;32m     26\u001b[0m \u001b[39mdef\u001b[39;00m \u001b[39m__init__\u001b[39m(\n\u001b[1;32m     27\u001b[0m     \u001b[39mself\u001b[39m,\n\u001b[1;32m     28\u001b[0m     in_channels,\n\u001b[0;32m   (...)\u001b[0m\n\u001b[1;32m     34\u001b[0m     mlp_num_layers\u001b[39m=\u001b[39m\u001b[39m2\u001b[39m,\n\u001b[1;32m     35\u001b[0m ):\n\u001b[1;32m     36\u001b[0m     \u001b[39msuper\u001b[39m()\u001b[39m.\u001b[39m\u001b[39m__init__\u001b[39m()\n\u001b[1;32m     37\u001b[0m     layers \u001b[39m=\u001b[39m [\n\u001b[0;32m---> 38\u001b[0m         AllSetTransformerLayer(\n\u001b[1;32m     39\u001b[0m             in_channels\u001b[39m=\u001b[39;49min_channels,\n\u001b[1;32m     40\u001b[0m             hidden_channels\u001b[39m=\u001b[39;49mhidden_channels,\n\u001b[1;32m     41\u001b[0m             out_channels\u001b[39m=\u001b[39;49mout_channels,\n\u001b[1;32m     42\u001b[0m             dropout\u001b[39m=\u001b[39;49mdropout,\n\u001b[1;32m     43\u001b[0m             att_dropout\u001b[39m=\u001b[39;49matt_dropout,\n\u001b[1;32m     44\u001b[0m             mlp_num_layers\u001b[39m=\u001b[39;49mmlp_num_layers,\n\u001b[1;32m     45\u001b[0m         )\n\u001b[1;32m     46\u001b[0m     ]\n\u001b[1;32m     48\u001b[0m     \u001b[39mfor\u001b[39;00m _ \u001b[39min\u001b[39;00m \u001b[39mrange\u001b[39m(n_layers \u001b[39m-\u001b[39m \u001b[39m1\u001b[39m):\n\u001b[1;32m     49\u001b[0m         layers\u001b[39m.\u001b[39mappend(\n\u001b[1;32m     50\u001b[0m             AllSetTransformerLayer(\n\u001b[1;32m     51\u001b[0m                 in_channels\u001b[39m=\u001b[39mhidden_channels,\n\u001b[0;32m   (...)\u001b[0m\n\u001b[1;32m     57\u001b[0m             )\n\u001b[1;32m     58\u001b[0m         )\n",
      "\u001b[0;31mTypeError\u001b[0m: AllSetTransformerLayer.__init__() got an unexpected keyword argument 'att_dropout'"
     ]
    }
   ],
   "source": [
    "hid_dim, out_dim = 64, 1\n",
    "\n",
    "# Define the model\n",
    "model = AllSetTransformerModel(\n",
    "    in_channels=channels_node,\n",
    "    hidden_channels=hid_dim,\n",
    "    out_channels=out_dim,\n",
    "    n_layers=1,\n",
    "    mlp_num_layers=1,\n",
    ")\n",
    "model = model.to(device)\n",
    "\n",
    "# Optimizer and loss\n",
    "opt = torch.optim.Adam(model.parameters(), lr=0.1)\n",
    "loss_fn = torch.nn.MSELoss()"
   ]
  },
  {
   "attachments": {},
   "cell_type": "markdown",
   "metadata": {},
   "source": [
    "Split the dataset into train and test sets."
   ]
  },
  {
   "cell_type": "code",
   "execution_count": 63,
   "metadata": {
    "ExecuteTime": {
     "end_time": "2023-06-01T16:14:59.046068930Z",
     "start_time": "2023-06-01T16:14:59.037648626Z"
    }
   },
   "outputs": [],
   "source": [
    "test_size = 0.2\n",
    "x_0_train, x_0_test = train_test_split(x_0s, test_size=test_size, shuffle=False)\n",
    "incidence_1_train, incidence_1_test = train_test_split(\n",
    "    incidence_1_list, test_size=test_size, shuffle=False\n",
    ")\n",
    "y_train, y_test = train_test_split(ys, test_size=test_size, shuffle=False)"
   ]
  },
  {
   "attachments": {},
   "cell_type": "markdown",
   "metadata": {},
   "source": [
    "The following cell performs the training, looping over the network for a low amount of epochs. We keep training minimal for the purpose of rapid testing."
   ]
  },
  {
   "cell_type": "code",
   "execution_count": 64,
   "metadata": {
    "ExecuteTime": {
     "end_time": "2023-06-01T16:15:01.683216142Z",
     "start_time": "2023-06-01T16:15:00.727075750Z"
    }
   },
   "outputs": [
    {
     "name": "stdout",
     "output_type": "stream",
     "text": [
      "Epoch: 1 loss: 274.9766\n",
      "Epoch: 2 loss: 274.6125\n",
      "Epoch: 3 loss: 274.6125\n",
      "Epoch: 4 loss: 274.6125\n"
     ]
    },
    {
     "ename": "KeyboardInterrupt",
     "evalue": "",
     "output_type": "error",
     "traceback": [
      "\u001b[0;31m---------------------------------------------------------------------------\u001b[0m",
      "\u001b[0;31mKeyboardInterrupt\u001b[0m                         Traceback (most recent call last)",
      "Cell \u001b[0;32mIn[64], line 19\u001b[0m\n\u001b[1;32m     16\u001b[0m y_hat \u001b[39m=\u001b[39m model(x_0, incidence_1)\n\u001b[1;32m     17\u001b[0m loss \u001b[39m=\u001b[39m loss_fn(y_hat, y)\n\u001b[0;32m---> 19\u001b[0m loss\u001b[39m.\u001b[39;49mbackward()\n\u001b[1;32m     20\u001b[0m opt\u001b[39m.\u001b[39mstep()\n\u001b[1;32m     21\u001b[0m epoch_loss\u001b[39m.\u001b[39mappend(loss\u001b[39m.\u001b[39mitem())\n",
      "File \u001b[0;32m~/miniconda/envs/venv_topo/lib/python3.11/site-packages/torch/_tensor.py:487\u001b[0m, in \u001b[0;36mTensor.backward\u001b[0;34m(self, gradient, retain_graph, create_graph, inputs)\u001b[0m\n\u001b[1;32m    477\u001b[0m \u001b[39mif\u001b[39;00m has_torch_function_unary(\u001b[39mself\u001b[39m):\n\u001b[1;32m    478\u001b[0m     \u001b[39mreturn\u001b[39;00m handle_torch_function(\n\u001b[1;32m    479\u001b[0m         Tensor\u001b[39m.\u001b[39mbackward,\n\u001b[1;32m    480\u001b[0m         (\u001b[39mself\u001b[39m,),\n\u001b[0;32m   (...)\u001b[0m\n\u001b[1;32m    485\u001b[0m         inputs\u001b[39m=\u001b[39minputs,\n\u001b[1;32m    486\u001b[0m     )\n\u001b[0;32m--> 487\u001b[0m torch\u001b[39m.\u001b[39;49mautograd\u001b[39m.\u001b[39;49mbackward(\n\u001b[1;32m    488\u001b[0m     \u001b[39mself\u001b[39;49m, gradient, retain_graph, create_graph, inputs\u001b[39m=\u001b[39;49minputs\n\u001b[1;32m    489\u001b[0m )\n",
      "File \u001b[0;32m~/miniconda/envs/venv_topo/lib/python3.11/site-packages/torch/autograd/__init__.py:200\u001b[0m, in \u001b[0;36mbackward\u001b[0;34m(tensors, grad_tensors, retain_graph, create_graph, grad_variables, inputs)\u001b[0m\n\u001b[1;32m    195\u001b[0m     retain_graph \u001b[39m=\u001b[39m create_graph\n\u001b[1;32m    197\u001b[0m \u001b[39m# The reason we repeat same the comment below is that\u001b[39;00m\n\u001b[1;32m    198\u001b[0m \u001b[39m# some Python versions print out the first line of a multi-line function\u001b[39;00m\n\u001b[1;32m    199\u001b[0m \u001b[39m# calls in the traceback and some print out the last line\u001b[39;00m\n\u001b[0;32m--> 200\u001b[0m Variable\u001b[39m.\u001b[39;49m_execution_engine\u001b[39m.\u001b[39;49mrun_backward(  \u001b[39m# Calls into the C++ engine to run the backward pass\u001b[39;49;00m\n\u001b[1;32m    201\u001b[0m     tensors, grad_tensors_, retain_graph, create_graph, inputs,\n\u001b[1;32m    202\u001b[0m     allow_unreachable\u001b[39m=\u001b[39;49m\u001b[39mTrue\u001b[39;49;00m, accumulate_grad\u001b[39m=\u001b[39;49m\u001b[39mTrue\u001b[39;49;00m)\n",
      "\u001b[0;31mKeyboardInterrupt\u001b[0m: "
     ]
    }
   ],
   "source": [
    "test_interval = 10\n",
    "num_epochs = 50\n",
    "for epoch_i in range(1, num_epochs + 1):\n",
    "    epoch_loss = []\n",
    "    model.train()\n",
    "    for x_0, incidence_1, y in zip(x_0_train, incidence_1_train, y_train):\n",
    "        x_0 = torch.tensor(x_0)\n",
    "        x_0, incidence_1, y = (\n",
    "            x_0.float().to(device),\n",
    "            incidence_1.float().to(device),\n",
    "            torch.tensor(y, dtype=torch.float).to(device),\n",
    "        )\n",
    "        opt.zero_grad()\n",
    "        # Extract edge_index from sparse incidence matrix\n",
    "        # edge_index, _ = to_edge_index(incidence_1)\n",
    "        y_hat = model(x_0, incidence_1)\n",
    "        loss = loss_fn(y_hat, y)\n",
    "\n",
    "        loss.backward()\n",
    "        opt.step()\n",
    "        epoch_loss.append(loss.item())\n",
    "\n",
    "    print(\n",
    "        f\"Epoch: {epoch_i} loss: {np.mean(epoch_loss):.4f}\",\n",
    "        flush=True,\n",
    "    )\n",
    "    if epoch_i % test_interval == 0:\n",
    "        with torch.no_grad():\n",
    "            for x_0, incidence_1, y in zip(x_0_test, incidence_1_test, y_test):\n",
    "                x_0 = torch.tensor(x_0)\n",
    "                x_0, incidence_1, y = (\n",
    "                    x_0.float().to(device),\n",
    "                    incidence_1.float().to(device),\n",
    "                    torch.tensor(y, dtype=torch.float).to(device),\n",
    "                )\n",
    "                y_hat = model(x_0, incidence_1)\n",
    "                loss = loss_fn(y_hat, y)\n",
    "\n",
    "            print(f\"Test_loss: {loss:.4f}\", flush=True)"
   ]
  },
  {
   "cell_type": "code",
   "execution_count": 98,
   "metadata": {},
   "outputs": [],
   "source": [
    "incidence_1.values = torch.Tensor(3000)"
   ]
  },
  {
   "cell_type": "code",
   "execution_count": 106,
   "metadata": {},
   "outputs": [
    {
     "data": {
      "text/plain": [
       "tensor(crow_indices=tensor([   0,   10,   22,   34,   46,   60,   70,   82,\n",
       "                              94,  104,  112,  122,  136,  144,  158,  170,\n",
       "                             178,  192,  204,  218,  234,  244,  256,  270,\n",
       "                             284,  294,  304,  318,  326,  336,  352,  366,\n",
       "                             376,  386,  396,  408,  418,  428,  442,  452,\n",
       "                             464,  474,  484,  498,  508,  520,  530,  540,\n",
       "                             554,  570,  580,  596,  606,  620,  630,  640,\n",
       "                             652,  666,  676,  686,  700,  712,  728,  734,\n",
       "                             748,  762,  774,  788,  804,  812,  824,  834,\n",
       "                             848,  860,  874,  888,  902,  916,  926,  934,\n",
       "                             942,  952,  962,  976,  988, 1000, 1010, 1022,\n",
       "                            1038, 1048, 1062, 1076, 1086, 1098, 1108, 1120,\n",
       "                            1130, 1142, 1154, 1168, 1178, 1190, 1202, 1212,\n",
       "                            1224, 1238, 1248, 1264, 1274, 1290, 1306, 1320,\n",
       "                            1330, 1342, 1356, 1368, 1380, 1392, 1404, 1416,\n",
       "                            1426, 1432, 1446, 1460, 1472, 1484, 1496, 1508,\n",
       "                            1522, 1534, 1544, 1560, 1572, 1584, 1598, 1610,\n",
       "                            1622, 1630, 1642, 1656, 1670, 1684, 1694, 1706,\n",
       "                            1720, 1734, 1748, 1758, 1774, 1784, 1796, 1806,\n",
       "                            1822, 1834, 1844, 1858, 1870, 1886, 1898, 1912,\n",
       "                            1926, 1938, 1950, 1964, 1978, 1988, 2000, 2012,\n",
       "                            2024, 2038, 2050, 2060, 2074, 2086, 2098, 2108,\n",
       "                            2120, 2134, 2144, 2156, 2172, 2182, 2196, 2208,\n",
       "                            2220, 2228, 2240, 2250, 2262, 2274, 2284, 2296,\n",
       "                            2312, 2322, 2334, 2344, 2356, 2368, 2382, 2392,\n",
       "                            2404, 2418, 2432, 2444, 2454, 2464, 2480, 2492,\n",
       "                            2502, 2516, 2528, 2538, 2550, 2560, 2572, 2584,\n",
       "                            2594, 2604, 2616, 2628, 2642, 2652, 2664, 2674,\n",
       "                            2686, 2698, 2712, 2724, 2736, 2748, 2758, 2768,\n",
       "                            2778, 2790, 2802, 2814, 2826, 2840, 2854, 2866,\n",
       "                            2876, 2888, 2900, 2910, 2920, 2932, 2944, 2954,\n",
       "                            2964, 2974, 2982, 2990, 3000]),\n",
       "       col_indices=tensor([   0,    1,    2,  ..., 1247, 1248, 1249]),\n",
       "       values=tensor([1., 1., 1.,  ..., 1., 1., 1.]), size=(252, 1250),\n",
       "       nnz=3000, layout=torch.sparse_csr)"
      ]
     },
     "execution_count": 106,
     "metadata": {},
     "output_type": "execute_result"
    }
   ],
   "source": [
    "incidence_1"
   ]
  },
  {
   "cell_type": "code",
   "execution_count": 64,
   "metadata": {},
   "outputs": [],
   "source": [
    "x_0 = torch.randn(3, 10)\n",
    "incidence_1 = torch.tensor([[1, 1, 0], [1, 1, 1], [0, 1, 1]], dtype=torch.float32)\n",
    "\n",
    "in_dim = 10\n",
    "hid_dim = 40\n",
    "out_out = 10\n",
    "layer = AllSetLayer(in_dim, hid_dim, out_out)"
   ]
  },
  {
   "cell_type": "code",
   "execution_count": 66,
   "metadata": {},
   "outputs": [
    {
     "data": {
      "text/plain": [
       "tensor([[0.5924, 0.9794, 0.0289, 0.0000, 0.1268, 0.1217, 1.2585, 0.0000, 0.0000,\n",
       "         0.0000],\n",
       "        [0.0000, 0.0090, 0.0000, 0.4814, 0.8803, 0.0000, 0.0000, 0.6687, 0.0000,\n",
       "         0.9917],\n",
       "        [0.0000, 0.0000, 0.0000, 0.1937, 0.0000, 0.0000, 0.0000, 1.3111, 0.0000,\n",
       "         0.1433]], grad_fn=<MulBackward0>)"
      ]
     },
     "execution_count": 66,
     "metadata": {},
     "output_type": "execute_result"
    }
   ],
   "source": [
    "layer(x_0, incidence_1)"
   ]
  }
 ],
 "metadata": {
  "kernelspec": {
   "display_name": "Python 3 (ipykernel)",
   "language": "python",
   "name": "python3"
  },
  "language_info": {
   "codemirror_mode": {
    "name": "ipython",
    "version": 3
   },
   "file_extension": ".py",
   "mimetype": "text/x-python",
   "name": "python",
   "nbconvert_exporter": "python",
   "pygments_lexer": "ipython3",
   "version": "3.11.3"
  }
 },
 "nbformat": 4,
 "nbformat_minor": 2
}
