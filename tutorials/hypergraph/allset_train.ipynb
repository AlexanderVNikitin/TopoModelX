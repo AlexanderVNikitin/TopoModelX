{
 "cells": [
  {
   "cell_type": "markdown",
   "metadata": {},
   "source": [
    "# Train a Hypergraph Neural Network\n",
    "\n",
    "In this notebook, we will create and train a two-step message passing network in the hypergraph domain. We will use a benchmark dataset, shrec16, a collection of 3D meshes, to train the model to perform classification at the level of the hypergraph. "
   ]
  },
  {
   "cell_type": "code",
   "execution_count": 43,
   "metadata": {
    "ExecuteTime": {
     "end_time": "2023-06-01T16:14:51.222779223Z",
     "start_time": "2023-06-01T16:14:49.575421023Z"
    }
   },
   "outputs": [
    {
     "name": "stdout",
     "output_type": "stream",
     "text": [
      "The autoreload extension is already loaded. To reload it, use:\n",
      "  %reload_ext autoreload\n"
     ]
    }
   ],
   "source": [
    "import torch\n",
    "import numpy as np\n",
    "from sklearn.model_selection import train_test_split\n",
    "\n",
    "from toponetx import SimplicialComplex\n",
    "import toponetx.datasets as datasets\n",
    "from topomodelx.nn.hypergraph.allset_layer import AllSetLayer, AllSetTransformerLayer\n",
    "\n",
    "from torch_geometric.utils import to_edge_index\n",
    "# make ipynb to read .py files continiously\n",
    "%load_ext autoreload\n",
    "%autoreload 2\n",
    "\n"
   ]
  },
  {
   "cell_type": "markdown",
   "metadata": {},
   "source": [
    "If GPU's are available, we will make use of them. Otherwise, this will run on CPU."
   ]
  },
  {
   "cell_type": "code",
   "execution_count": 44,
   "metadata": {
    "ExecuteTime": {
     "end_time": "2023-06-01T16:14:51.959770754Z",
     "start_time": "2023-06-01T16:14:51.956096841Z"
    }
   },
   "outputs": [
    {
     "name": "stdout",
     "output_type": "stream",
     "text": [
      "cpu\n"
     ]
    }
   ],
   "source": [
    "device = torch.device(\"cuda\" if torch.cuda.is_available() else \"cpu\")\n",
    "print(device)"
   ]
  },
  {
   "cell_type": "markdown",
   "metadata": {},
   "source": [
    "# Pre-processing\n",
    "\n",
    "## Import data ##\n",
    "\n",
    "The first step is to import the dataset, shrec 16, a benchmark dataset for 3D mesh classification. We then lift each graph into our domain of choice, a hypergraph.\n",
    "\n",
    "We will also retrieve:\n",
    "- input signal on the edges for each of these hypergraphs, as that will be what we feed the model in input\n",
    "- the label associated to the hypergraph"
   ]
  },
  {
   "cell_type": "code",
   "execution_count": 45,
   "metadata": {
    "ExecuteTime": {
     "end_time": "2023-06-01T16:14:53.022151550Z",
     "start_time": "2023-06-01T16:14:52.949636599Z"
    }
   },
   "outputs": [
    {
     "name": "stdout",
     "output_type": "stream",
     "text": [
      "Loading dataset...\n",
      "\n",
      "done!\n"
     ]
    }
   ],
   "source": [
    "shrec, _ = datasets.mesh.shrec_16(size=\"small\")\n",
    "\n",
    "shrec = {key: np.array(value) for key, value in shrec.items()}\n",
    "x_0s = shrec[\"node_feat\"]\n",
    "x_1s = shrec[\"edge_feat\"]\n",
    "x_2s = shrec[\"face_feat\"]\n",
    "\n",
    "ys = shrec[\"label\"]\n",
    "simplexes = shrec[\"complexes\"]"
   ]
  },
  {
   "cell_type": "code",
   "execution_count": null,
   "metadata": {},
   "outputs": [],
   "source": []
  },
  {
   "cell_type": "code",
   "execution_count": 46,
   "metadata": {},
   "outputs": [
    {
     "name": "stdout",
     "output_type": "stream",
     "text": [
      "The 6th simplicial complex has 252 nodes with features of dimension 6.\n",
      "The 6th simplicial complex has 750 edges with features of dimension 10.\n",
      "The 6th simplicial complex has 500 faces with features of dimension 7.\n"
     ]
    }
   ],
   "source": [
    "i_complex = 6\n",
    "print(\n",
    "    f\"The {i_complex}th simplicial complex has {x_0s[i_complex].shape[0]} nodes with features of dimension {x_0s[i_complex].shape[1]}.\"\n",
    ")\n",
    "print(\n",
    "    f\"The {i_complex}th simplicial complex has {x_1s[i_complex].shape[0]} edges with features of dimension {x_1s[i_complex].shape[1]}.\"\n",
    ")\n",
    "print(\n",
    "    f\"The {i_complex}th simplicial complex has {x_2s[i_complex].shape[0]} faces with features of dimension {x_2s[i_complex].shape[1]}.\"\n",
    ")"
   ]
  },
  {
   "cell_type": "markdown",
   "metadata": {},
   "source": [
    "## Define neighborhood structures and lift into hypergraph domain. ##\n",
    "\n",
    "Now we retrieve the neighborhood structures (i.e. their representative matrices) that we will use to send messges on each simplicial complex. In the case of this architecture, we need the boundary matrix (or incidence matrix) $B_1$ with shape $n_\\text{nodes} \\times n_\\text{edges}$.\n",
    "\n",
    "Once we have recorded the incidence matrix (note that all incidence amtrices in the hypergraph domain must be unsigned), we lift each simplicial complex into a hypergraph. The pairwise edges will become pairwise hyperedges, and faces in the simplciial complex will become 3-wise hyperedges."
   ]
  },
  {
   "cell_type": "code",
   "execution_count": 47,
   "metadata": {
    "ExecuteTime": {
     "end_time": "2023-06-01T16:14:53.022151550Z",
     "start_time": "2023-06-01T16:14:52.949636599Z"
    }
   },
   "outputs": [],
   "source": [
    "hg_list = []\n",
    "incidence_1_list = []\n",
    "for simplex in simplexes:\n",
    "    incidence_1 = simplex.incidence_matrix(rank=1, signed=False)\n",
    "    # incidence_1 = torch.from_numpy(incidence_1.todense()).to_sparse()\n",
    "    # incidence_1_list.append(incidence_1)\n",
    "    hg = simplex.to_hypergraph()\n",
    "    hg_list.append(hg)\n",
    "\n",
    "\n",
    "# Extract hypergraphs incident matrices from collected hypergraphs\n",
    "for hg in hg_list:\n",
    "    incidence_1 = hg.incidence_matrix()\n",
    "    incidence_1 = torch.from_numpy(incidence_1.todense()).to_sparse()\n",
    "    incidence_1_list.append(incidence_1)"
   ]
  },
  {
   "cell_type": "code",
   "execution_count": 48,
   "metadata": {},
   "outputs": [
    {
     "name": "stdout",
     "output_type": "stream",
     "text": [
      "The 6th hypergraph has an incidence matrix of shape torch.Size([252, 1250]).\n"
     ]
    }
   ],
   "source": [
    "i_complex = 6\n",
    "print(\n",
    "    f\"The {i_complex}th hypergraph has an incidence matrix of shape {incidence_1_list[i_complex].shape}.\"\n",
    ")"
   ]
  },
  {
   "cell_type": "markdown",
   "metadata": {},
   "source": [
    "# Create the Neural Network\n",
    "\n",
    "Using the TemplateLayer class, we create a neural network with stacked layers."
   ]
  },
  {
   "cell_type": "code",
   "execution_count": 49,
   "metadata": {
    "ExecuteTime": {
     "end_time": "2023-06-01T16:14:55.343005145Z",
     "start_time": "2023-06-01T16:14:55.339481459Z"
    }
   },
   "outputs": [],
   "source": [
    "channels_edge = x_1s[0].shape[1]\n",
    "channels_node = x_0s[0].shape[1]"
   ]
  },
  {
   "cell_type": "code",
   "execution_count": 68,
   "metadata": {
    "ExecuteTime": {
     "end_time": "2023-06-01T16:14:56.033274119Z",
     "start_time": "2023-06-01T16:14:56.029056913Z"
    }
   },
   "outputs": [],
   "source": [
    "class AllSetNN(torch.nn.Module):\n",
    "    \"\"\"AllSet Neural Network Module.\n",
    "\n",
    "    A module that combines multiple AllSet layers to form a neural network.\n",
    "\n",
    "    Parameters\n",
    "    ----------\n",
    "    in_dim : int\n",
    "        Dimension of the input features.\n",
    "    hid_dim : int\n",
    "        Dimension of the hidden features.\n",
    "    out_dim : int\n",
    "        Dimension of the output features.\n",
    "    dropout : float\n",
    "        Dropout probability.\n",
    "    n_layers : int, optional\n",
    "        Number of AllSet layers in the network. Defaults to 2.\n",
    "    input_dropout : float, optional\n",
    "        Dropout probability for the layer input. Defaults to 0.2.\n",
    "    mlp_num_layers : int, optional\n",
    "        Number of layers in the MLP. Defaults to 2.\n",
    "    mlp_input_norm : bool, optional\n",
    "        Whether to apply input normalization in the MLP. Defaults to False.\n",
    "    \"\"\"\n",
    "\n",
    "    def __init__(\n",
    "        self,\n",
    "        in_dim,\n",
    "        hid_dim,\n",
    "        out_dim,\n",
    "        n_layers=2,\n",
    "        dropout=0.2,\n",
    "        input_dropout=0.2,\n",
    "        mlp_num_layers=2,\n",
    "    ):\n",
    "        super().__init__()\n",
    "        layers = [\n",
    "            AllSetLayer(\n",
    "                in_dim=in_dim,\n",
    "                hid_dim=hid_dim,\n",
    "                out_dim=hid_dim,\n",
    "                dropout=dropout,\n",
    "                input_dropout=input_dropout,\n",
    "                mlp_num_layers=mlp_num_layers,\n",
    "                mlp_layer_norm=\"ln\",\n",
    "                mlp_num_layers=2,\n",
    "            )\n",
    "        ]\n",
    "\n",
    "        for _ in range(n_layers - 1):\n",
    "            layers.append(\n",
    "                AllSetLayer(\n",
    "                    in_dim=hid_dim,\n",
    "                    hid_dim=hid_dim,\n",
    "                    out_dim=hid_dim,\n",
    "                    dropout=dropout,\n",
    "                    input_dropout=input_dropout,\n",
    "                    mlp_num_layers=mlp_num_layers,\n",
    "                    mlp_layer_norm=\"ln\",\n",
    "                    mlp_num_layers=2,\n",
    "                )\n",
    "            )\n",
    "        self.layers = torch.nn.ModuleList(layers)\n",
    "        self.linear = torch.nn.Linear(hid_dim, out_dim)\n",
    "\n",
    "    def forward(self, x_0, incidence_1):\n",
    "        \"\"\"\n",
    "        Forward computation.\n",
    "\n",
    "        Parameters\n",
    "        ----------\n",
    "        x : torch.Tensor\n",
    "            Input features.\n",
    "        edge_index : torch.Tensor\n",
    "            Edge list (of size (2, |E|)).\n",
    "\n",
    "        Returns\n",
    "        -------\n",
    "        torch.Tensor\n",
    "            Output prediction.\n",
    "        \"\"\"\n",
    "        # cidx = edge_index[1].min()\n",
    "        # edge_index[1] -= cidx\n",
    "        # reversed_edge_index = torch.stack(\n",
    "        #     [edge_index[1], edge_index[0]], dim=0)\n",
    "\n",
    "        for layer in self.layers:\n",
    "            x_0 = layer(x_0, incidence_1)\n",
    "        pooled_x = torch.max(x_0, dim=0)[0]\n",
    "        return torch.sigmoid(self.linear(pooled_x))[0]"
   ]
  },
  {
   "cell_type": "markdown",
   "metadata": {},
   "source": [
    "# Train the Neural Network\n",
    "\n",
    "We specify the model, the loss, and an optimizer."
   ]
  },
  {
   "cell_type": "code",
   "execution_count": null,
   "metadata": {},
   "outputs": [],
   "source": [
    "hid_dim, out_dim = 64, 1\n",
    "\n",
    "# Define the model\n",
    "model = AllSetNN(\n",
    "    in_dim=channels_node,\n",
    "    hid_dim=hid_dim,\n",
    "    out_dim=out_dim,\n",
    "    n_layers=1,\n",
    "    mlp_num_layers=1,\n",
    ")\n",
    "model = model.to(device)\n",
    "\n",
    "# Optimizer and loss\n",
    "opt = torch.optim.Adam(model.parameters(), lr=0.1)\n",
    "loss_fn = torch.nn.MSELoss()"
   ]
  },
  {
   "cell_type": "markdown",
   "metadata": {},
   "source": [
    "Split the dataset into train and test sets."
   ]
  },
  {
   "cell_type": "code",
   "execution_count": 76,
   "metadata": {
    "ExecuteTime": {
     "end_time": "2023-06-01T16:14:59.046068930Z",
     "start_time": "2023-06-01T16:14:59.037648626Z"
    }
   },
   "outputs": [],
   "source": [
    "test_size = 0.2\n",
    "x_0_train, x_0_test = train_test_split(x_0s, test_size=test_size, shuffle=False)\n",
    "incidence_1_train, incidence_1_test = train_test_split(\n",
    "    incidence_1_list, test_size=test_size, shuffle=False\n",
    ")\n",
    "y_train, y_test = train_test_split(ys, test_size=test_size, shuffle=False)"
   ]
  },
  {
   "cell_type": "markdown",
   "metadata": {},
   "source": [
    "The following cell performs the training, looping over the network for a low amount of epochs. We keep training minimal for the purpose of rapid testing."
   ]
  },
  {
   "cell_type": "code",
   "execution_count": 78,
   "metadata": {
    "ExecuteTime": {
     "end_time": "2023-06-01T16:15:01.683216142Z",
     "start_time": "2023-06-01T16:15:00.727075750Z"
    }
   },
   "outputs": [
    {
     "name": "stdout",
     "output_type": "stream",
     "text": [
      "Epoch: 1 loss: 274.8839\n",
      "Epoch: 2 loss: 274.6125\n",
      "Epoch: 3 loss: 274.6125\n",
      "Epoch: 4 loss: 274.6125\n",
      "Epoch: 5 loss: 274.6125\n",
      "Epoch: 6 loss: 274.6125\n",
      "Epoch: 7 loss: 274.6125\n",
      "Epoch: 8 loss: 274.6125\n",
      "Epoch: 9 loss: 274.6125\n",
      "Epoch: 10 loss: 274.6125\n",
      "Test_loss: 529.0000\n",
      "Epoch: 11 loss: 274.6125\n",
      "Epoch: 12 loss: 274.6125\n",
      "Epoch: 13 loss: 274.6125\n",
      "Epoch: 14 loss: 274.6125\n",
      "Epoch: 15 loss: 274.6125\n",
      "Epoch: 16 loss: 274.6125\n",
      "Epoch: 17 loss: 274.6125\n",
      "Epoch: 18 loss: 274.6125\n",
      "Epoch: 19 loss: 274.6125\n",
      "Epoch: 20 loss: 274.6125\n",
      "Test_loss: 529.0000\n",
      "Epoch: 21 loss: 274.6125\n",
      "Epoch: 22 loss: 274.6125\n",
      "Epoch: 23 loss: 274.6125\n",
      "Epoch: 24 loss: 274.6125\n",
      "Epoch: 25 loss: 274.6125\n",
      "Epoch: 26 loss: 274.6125\n",
      "Epoch: 27 loss: 274.6125\n",
      "Epoch: 28 loss: 274.6125\n",
      "Epoch: 29 loss: 274.6125\n",
      "Epoch: 30 loss: 274.6125\n",
      "Test_loss: 529.0000\n",
      "Epoch: 31 loss: 274.6125\n",
      "Epoch: 32 loss: 274.6125\n",
      "Epoch: 33 loss: 274.6125\n",
      "Epoch: 34 loss: 274.6125\n",
      "Epoch: 35 loss: 274.6125\n",
      "Epoch: 36 loss: 274.6125\n",
      "Epoch: 37 loss: 274.6125\n",
      "Epoch: 38 loss: 274.6125\n",
      "Epoch: 39 loss: 274.6125\n",
      "Epoch: 40 loss: 274.6125\n",
      "Test_loss: 529.0000\n",
      "Epoch: 41 loss: 274.6125\n",
      "Epoch: 42 loss: 274.6125\n",
      "Epoch: 43 loss: 274.6125\n",
      "Epoch: 44 loss: 274.6125\n",
      "Epoch: 45 loss: 274.6125\n",
      "Epoch: 46 loss: 274.6125\n",
      "Epoch: 47 loss: 274.6125\n",
      "Epoch: 48 loss: 274.6125\n",
      "Epoch: 49 loss: 274.6125\n",
      "Epoch: 50 loss: 274.6125\n",
      "Test_loss: 529.0000\n"
     ]
    }
   ],
   "source": [
    "test_interval = 10\n",
    "num_epochs = 50\n",
    "for epoch_i in range(1, num_epochs + 1):\n",
    "    epoch_loss = []\n",
    "    model.train()\n",
    "    for x_0, incidence_1, y in zip(x_0_train, incidence_1_train, y_train):\n",
    "        x_0 = torch.tensor(x_0)\n",
    "        x_0, incidence_1, y = (\n",
    "            x_0.float().to(device),\n",
    "            incidence_1.float().to(device),\n",
    "            torch.tensor(y, dtype=torch.float).to(device),\n",
    "        )\n",
    "        opt.zero_grad()\n",
    "        # Extract edge_index from sparse incidence matrix\n",
    "        # edge_index, _ = to_edge_index(incidence_1)\n",
    "        y_hat = model(x_0, incidence_1)\n",
    "        loss = loss_fn(y_hat, y)\n",
    "\n",
    "        loss.backward()\n",
    "        opt.step()\n",
    "        epoch_loss.append(loss.item())\n",
    "\n",
    "    print(\n",
    "        f\"Epoch: {epoch_i} loss: {np.mean(epoch_loss):.4f}\",\n",
    "        flush=True,\n",
    "    )\n",
    "    if epoch_i % test_interval == 0:\n",
    "        with torch.no_grad():\n",
    "            for x_0, incidence_1, y in zip(x_0_test, incidence_1_test, y_test):\n",
    "                x_0 = torch.tensor(x_0)\n",
    "                x_0, incidence_1, y = (\n",
    "                    x_0.float().to(device),\n",
    "                    incidence_1.float().to(device),\n",
    "                    torch.tensor(y, dtype=torch.float).to(device),\n",
    "                )\n",
    "                y_hat = model(x_0, incidence_1)\n",
    "                loss = loss_fn(y_hat, y)\n",
    "\n",
    "            print(f\"Test_loss: {loss:.4f}\", flush=True)"
   ]
  },
  {
   "cell_type": "code",
   "execution_count": 98,
   "metadata": {},
   "outputs": [],
   "source": [
    "incidence_1.values = torch.Tensor(3000)"
   ]
  },
  {
   "cell_type": "code",
   "execution_count": 106,
   "metadata": {},
   "outputs": [
    {
     "data": {
      "text/plain": [
       "tensor(crow_indices=tensor([   0,   10,   22,   34,   46,   60,   70,   82,\n",
       "                              94,  104,  112,  122,  136,  144,  158,  170,\n",
       "                             178,  192,  204,  218,  234,  244,  256,  270,\n",
       "                             284,  294,  304,  318,  326,  336,  352,  366,\n",
       "                             376,  386,  396,  408,  418,  428,  442,  452,\n",
       "                             464,  474,  484,  498,  508,  520,  530,  540,\n",
       "                             554,  570,  580,  596,  606,  620,  630,  640,\n",
       "                             652,  666,  676,  686,  700,  712,  728,  734,\n",
       "                             748,  762,  774,  788,  804,  812,  824,  834,\n",
       "                             848,  860,  874,  888,  902,  916,  926,  934,\n",
       "                             942,  952,  962,  976,  988, 1000, 1010, 1022,\n",
       "                            1038, 1048, 1062, 1076, 1086, 1098, 1108, 1120,\n",
       "                            1130, 1142, 1154, 1168, 1178, 1190, 1202, 1212,\n",
       "                            1224, 1238, 1248, 1264, 1274, 1290, 1306, 1320,\n",
       "                            1330, 1342, 1356, 1368, 1380, 1392, 1404, 1416,\n",
       "                            1426, 1432, 1446, 1460, 1472, 1484, 1496, 1508,\n",
       "                            1522, 1534, 1544, 1560, 1572, 1584, 1598, 1610,\n",
       "                            1622, 1630, 1642, 1656, 1670, 1684, 1694, 1706,\n",
       "                            1720, 1734, 1748, 1758, 1774, 1784, 1796, 1806,\n",
       "                            1822, 1834, 1844, 1858, 1870, 1886, 1898, 1912,\n",
       "                            1926, 1938, 1950, 1964, 1978, 1988, 2000, 2012,\n",
       "                            2024, 2038, 2050, 2060, 2074, 2086, 2098, 2108,\n",
       "                            2120, 2134, 2144, 2156, 2172, 2182, 2196, 2208,\n",
       "                            2220, 2228, 2240, 2250, 2262, 2274, 2284, 2296,\n",
       "                            2312, 2322, 2334, 2344, 2356, 2368, 2382, 2392,\n",
       "                            2404, 2418, 2432, 2444, 2454, 2464, 2480, 2492,\n",
       "                            2502, 2516, 2528, 2538, 2550, 2560, 2572, 2584,\n",
       "                            2594, 2604, 2616, 2628, 2642, 2652, 2664, 2674,\n",
       "                            2686, 2698, 2712, 2724, 2736, 2748, 2758, 2768,\n",
       "                            2778, 2790, 2802, 2814, 2826, 2840, 2854, 2866,\n",
       "                            2876, 2888, 2900, 2910, 2920, 2932, 2944, 2954,\n",
       "                            2964, 2974, 2982, 2990, 3000]),\n",
       "       col_indices=tensor([   0,    1,    2,  ..., 1247, 1248, 1249]),\n",
       "       values=tensor([1., 1., 1.,  ..., 1., 1., 1.]), size=(252, 1250),\n",
       "       nnz=3000, layout=torch.sparse_csr)"
      ]
     },
     "execution_count": 106,
     "metadata": {},
     "output_type": "execute_result"
    }
   ],
   "source": [
    "incidence_1"
   ]
  },
  {
   "cell_type": "code",
   "execution_count": 64,
   "metadata": {},
   "outputs": [],
   "source": [
    "x_0 = torch.randn(3, 10)\n",
    "incidence_1 = torch.tensor([[1, 1, 0], [1, 1, 1], [0, 1, 1]], dtype=torch.float32)\n",
    "\n",
    "in_dim = 10\n",
    "hid_dim = 40\n",
    "out_out = 10\n",
    "layer = AllSetLayer(in_dim, hid_dim, out_out)"
   ]
  },
  {
   "cell_type": "code",
   "execution_count": 66,
   "metadata": {},
   "outputs": [
    {
     "data": {
      "text/plain": [
       "tensor([[0.5924, 0.9794, 0.0289, 0.0000, 0.1268, 0.1217, 1.2585, 0.0000, 0.0000,\n",
       "         0.0000],\n",
       "        [0.0000, 0.0090, 0.0000, 0.4814, 0.8803, 0.0000, 0.0000, 0.6687, 0.0000,\n",
       "         0.9917],\n",
       "        [0.0000, 0.0000, 0.0000, 0.1937, 0.0000, 0.0000, 0.0000, 1.3111, 0.0000,\n",
       "         0.1433]], grad_fn=<MulBackward0>)"
      ]
     },
     "execution_count": 66,
     "metadata": {},
     "output_type": "execute_result"
    }
   ],
   "source": [
    "layer(x_0, incidence_1)"
   ]
  },
  {
   "cell_type": "code",
   "execution_count": null,
   "metadata": {},
   "outputs": [],
   "source": []
  },
  {
   "cell_type": "code",
   "execution_count": null,
   "metadata": {},
   "outputs": [],
   "source": []
  }
 ],
 "metadata": {
  "kernelspec": {
   "display_name": "Python 3 (ipykernel)",
   "language": "python",
   "name": "python3"
  },
  "language_info": {
   "codemirror_mode": {
    "name": "ipython",
    "version": 3
   },
   "file_extension": ".py",
   "mimetype": "text/x-python",
   "name": "python",
   "nbconvert_exporter": "python",
   "pygments_lexer": "ipython3",
   "version": "3.11.3"
  }
 },
 "nbformat": 4,
 "nbformat_minor": 2
}
